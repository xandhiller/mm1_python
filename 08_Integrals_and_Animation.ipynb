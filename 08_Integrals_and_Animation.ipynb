{
 "cells": [
  {
   "cell_type": "markdown",
   "metadata": {},
   "source": [
    "# Double/Triple Integrals & Animation"
   ]
  },
  {
   "cell_type": "markdown",
   "metadata": {},
   "source": [
    "Initialisation. Run cell below. "
   ]
  },
  {
   "cell_type": "code",
   "execution_count": null,
   "metadata": {},
   "outputs": [],
   "source": [
    "from sympy import init_printing\n",
    "init_printing()"
   ]
  },
  {
   "cell_type": "markdown",
   "metadata": {},
   "source": [
    "## Question 0:\n",
    "\n",
    "Using the following result as what should be expected:\n",
    "\n",
    "$$\n",
    "\\iint xy \\ dx \\ dy = \\frac{x^2 y^2}{4}\n",
    "$$\n",
    "\n",
    "Why is the code below not returning the same value? \n",
    "\n",
    "Fix the code so that it runs and obtains the result as expected.\n",
    "\n"
   ]
  },
  {
   "cell_type": "code",
   "execution_count": null,
   "metadata": {},
   "outputs": [],
   "source": [
    "from sympy import integrate\n",
    "from sympy.abc import x,y\n",
    "\n",
    "########### Beginning BROKEN code #############\n",
    "f = x*y\n",
    "integrate(f,x)\n",
    "integrate(f,y)\n",
    "########### End BROKEN code #############\n"
   ]
  },
  {
   "cell_type": "markdown",
   "metadata": {},
   "source": [
    "## Answer 0:"
   ]
  },
  {
   "cell_type": "code",
   "execution_count": null,
   "metadata": {},
   "outputs": [],
   "source": [
    "from sympy import integrate\n",
    "from sympy.abc import x,y\n",
    "\n",
    "########### Beginning FIXED code #############\n",
    "\n",
    "########### End FIXED code #############"
   ]
  },
  {
   "cell_type": "markdown",
   "metadata": {},
   "source": [
    "## Question 1:\n",
    "\n",
    "\n",
    "$$\n",
    "\\iint \\sin (x) \\sin(y) \\ dA\n",
    "$$\n",
    "\n",
    "$$\n",
    "x \\in [5,10] \\quad y \\in [0, \\pi] \n",
    "$$\n",
    "\n",
    "(i) Symbolically evaluate the integral, \n",
    "\n",
    "(ii) Plot its 2D domain in 3D and the surface of $\\sin(x)\\sin(y)$.\n",
    "\n",
    "(ii) Get a numeric answer for the integral, using the `sympy` `N()` function.\n",
    "\n",
    "(iii) Plot the result of the integral over the domain.\n",
    "\n",
    "\n",
    "## Answer 1:"
   ]
  },
  {
   "cell_type": "code",
   "execution_count": null,
   "metadata": {},
   "outputs": [],
   "source": []
  },
  {
   "cell_type": "markdown",
   "metadata": {},
   "source": [
    "## An aside on `Symbol()`\n",
    "\n",
    "You can create symbols that are not just english letters, but also the greek letters that are so frequently used in mathematics.\n",
    "\n",
    "e.g."
   ]
  },
  {
   "cell_type": "code",
   "execution_count": null,
   "metadata": {},
   "outputs": [],
   "source": [
    "display(Symbol('theta'))\n",
    "display(Symbol('omega'))\n",
    "display(Symbol('gamma'))"
   ]
  },
  {
   "cell_type": "markdown",
   "metadata": {},
   "source": [
    "If you would prefer the capital letter of the Greek alphabet, it follows $\\LaTeX$ (pronounced '_lah-tek_') syntax in that you must capitalise the first letter of the word.\n",
    "\n",
    "e.g."
   ]
  },
  {
   "cell_type": "code",
   "execution_count": null,
   "metadata": {},
   "outputs": [],
   "source": [
    "display(Symbol('Theta'))\n",
    "display(Symbol('Omega'))\n",
    "display(Symbol('Gamma'))"
   ]
  },
  {
   "cell_type": "markdown",
   "metadata": {},
   "source": [
    "If you want subscripts or superscripts on your symbols, you must add underscores and carets, respectively. \n",
    "\n",
    "e.g."
   ]
  },
  {
   "cell_type": "code",
   "execution_count": null,
   "metadata": {},
   "outputs": [],
   "source": [
    "display(Symbol('x_a'))\n",
    "display(Symbol('y_b'))\n",
    "display(Symbol('z_c'))"
   ]
  },
  {
   "cell_type": "code",
   "execution_count": null,
   "metadata": {},
   "outputs": [],
   "source": [
    "display(Symbol('x^a'))\n",
    "display(Symbol('y^b'))\n",
    "display(Symbol('z^c'))"
   ]
  },
  {
   "cell_type": "markdown",
   "metadata": {},
   "source": [
    "If the text you wish to subscript/superscript is longer than one character, you must enclose it in `braces` (`{}`).\n",
    "\n",
    "e.g."
   ]
  },
  {
   "cell_type": "code",
   "execution_count": null,
   "metadata": {},
   "outputs": [],
   "source": [
    "display(Symbol('x_{hello}'))\n",
    "display(Symbol('y_{world}'))"
   ]
  },
  {
   "cell_type": "code",
   "execution_count": null,
   "metadata": {},
   "outputs": [],
   "source": [
    "display(Symbol('x^{hello}'))\n",
    "display(Symbol('y^{world}'))"
   ]
  },
  {
   "cell_type": "markdown",
   "metadata": {},
   "source": [
    "## Factorising with `factor`\n",
    "\n",
    "Sometimes the output of an `integrate` or `diff` gives a function that can be easily factorised.\n",
    "\n",
    "This can be done in one line by the `factor` function.\n",
    "\n",
    "e.g."
   ]
  },
  {
   "cell_type": "code",
   "execution_count": null,
   "metadata": {},
   "outputs": [],
   "source": [
    "from sympy import Symbol, factor\n",
    "x = Symbol('x')\n",
    "f = x**2+2*x+1\n",
    "display(f)\n",
    "display(factor(f))"
   ]
  },
  {
   "cell_type": "markdown",
   "metadata": {},
   "source": [
    "But if the expression is not inherently factorisable, you will simply be returned the function.\n",
    "\n",
    "e.g."
   ]
  },
  {
   "cell_type": "code",
   "execution_count": null,
   "metadata": {},
   "outputs": [],
   "source": [
    "f = 3*x**2 + 4*x + 5\n",
    "display(f)\n",
    "display(factor(f))"
   ]
  },
  {
   "cell_type": "markdown",
   "metadata": {},
   "source": [
    "More examples and nuances can be seen about `factor`by running the cell below."
   ]
  },
  {
   "cell_type": "code",
   "execution_count": null,
   "metadata": {},
   "outputs": [],
   "source": [
    "from sympy import factor\n",
    "help(factor)"
   ]
  },
  {
   "cell_type": "markdown",
   "metadata": {},
   "source": [
    "## Question 2:\n",
    "\n",
    "We are tasked with determining the density ($\\rho$) of a cylindrical rod of length, $L$.\n",
    "\n",
    "We are told the density increases linearly along the height ($z$) of the rod with proporttion to a constant, $a$, giving:\n",
    "\n",
    "$$\n",
    "\\rho_z (z) = az\n",
    "$$\n",
    "\n",
    "\n",
    "But the matter is complicated when we're told that its density varies with the length of the radius from the centre. \n",
    "\n",
    "Because of the way the rod is manufactured, the centre is of a higher density than the edge. The density drops off exponentially from the centre to the edge.\n",
    "\n",
    "$$ \n",
    "\\rho_r (r) = \\rho_0 e^{-r}\n",
    "$$\n",
    "\n",
    "Where $\\rho_0$ is some constant initial density at the centre.\n",
    "\n",
    "Assume that the density, $\\rho(z,r)$ of the rod is the product of these two functions.\n",
    "\n",
    "Use what you know about triple integrals and `sympy` to gain the expression for the density of the rod.\n",
    "\n",
    "### **Note**: _Ensure the output of your answer has the same notation as in the question._\n",
    "\n",
    "## Answer 2:"
   ]
  },
  {
   "cell_type": "code",
   "execution_count": null,
   "metadata": {},
   "outputs": [],
   "source": []
  },
  {
   "cell_type": "markdown",
   "metadata": {},
   "source": [
    "## Unpacking Sequential Data Types\n",
    "\n",
    "Say you have a function that returns a `list`. Unpacking the data within that `list` is done by providing a name for each element."
   ]
  },
  {
   "cell_type": "code",
   "execution_count": null,
   "metadata": {},
   "outputs": [],
   "source": [
    "def return_list():\n",
    "    return [1,2,3,4,5]\n",
    "\n",
    "value, another, again_another, once_more, again_once_more = return_list()\n",
    "display(value)"
   ]
  },
  {
   "cell_type": "markdown",
   "metadata": {},
   "source": [
    "The commas allow us to unpack the value returned from the function.\n",
    "\n",
    "But if it were a smaller `list`, how might we unpack a value from a list of one?\n"
   ]
  },
  {
   "cell_type": "code",
   "execution_count": null,
   "metadata": {},
   "outputs": [],
   "source": [
    "def return_single_item():\n",
    "    return [1]\n",
    "\n",
    "value, = return_single_item()\n",
    "display('value is = ' + str(value))\n",
    "display('value is of ' + str(type(value)) )"
   ]
  },
  {
   "cell_type": "markdown",
   "metadata": {},
   "source": [
    "Here, we have provided a comma to indicate that we want to assign the contents of the first element to `value`. If we had no comma however, value just becomes a `list`: "
   ]
  },
  {
   "cell_type": "code",
   "execution_count": null,
   "metadata": {},
   "outputs": [],
   "source": [
    "def return_single_item():\n",
    "    return [1]\n",
    "\n",
    "value = return_single_item()\n",
    "display('value is = ' + str(value))\n",
    "display('value is of ' + str(type(value)) )"
   ]
  },
  {
   "cell_type": "markdown",
   "metadata": {},
   "source": [
    "The reason we are going over this is because this method is used in the code below and is very common in examples you may use to create your own plots later on."
   ]
  },
  {
   "cell_type": "markdown",
   "metadata": {},
   "source": [
    "## Animations of 2D Lines\n",
    "\n",
    "Animations should be thought of as producing an plot for each frame.\n",
    "\n",
    "We could have a whole paragraph explaining qualitatively how to go about this, but this best explained by commented code."
   ]
  },
  {
   "cell_type": "code",
   "execution_count": null,
   "metadata": {},
   "outputs": [],
   "source": [
    "import matplotlib.pyplot as plt\n",
    "import matplotlib.animation\n",
    "import numpy as np\n",
    "from IPython.display import HTML\n",
    "\n",
    "# Variable setup. Domain, t. Range, f.\n",
    "t = np.linspace(0,2*np.pi, 100)\n",
    "f = np.cos(t)\n",
    "\n",
    "# Required setup\n",
    "fig, ax = plt.subplots()\n",
    "\n",
    "# Set the axis viewing limits => [x0, x1, y0, y1]\n",
    "ax.axis([0, 2*np.pi, -1, 1])\n",
    "\n",
    "# Using comma to unpack sequential data-type\n",
    "l, = ax.plot([],[])\n",
    "\n",
    "# `set_data` method used on line to initialise plot\n",
    "def init():\n",
    "    l.set_data([], [])\n",
    "    return l,\n",
    "\n",
    "# `set_data` method used on line to put a partial amount of the function on \n",
    "# up to an counting variable, i. This usage is specified by the library iteself.\n",
    "def animate(i):\n",
    "    l.set_data(t[:i], f[:i])\n",
    "    return l,\n",
    "\n",
    "# The actual function call to create the animation.\n",
    "ani = matplotlib.animation.FuncAnimation(fig, animate, init_func=init,\n",
    "                                frames=len(t), interval=20, blit=True)\n",
    "\n",
    "# Allows the animation to be converted appropriately to be displayed\n",
    "# in a Jupyter Notebook.\n",
    "display(HTML(ani.to_jshtml()))\n"
   ]
  },
  {
   "cell_type": "markdown",
   "metadata": {},
   "source": [
    "## Question 3:\n",
    "\n",
    "(i) Produce a looping animation of the following parametric line:\n",
    "\n",
    "$$\n",
    "\\mathbf{r}(t) = \\left\\langle \\frac{3t}{1+t^3}, \\frac{3t^2}{1+t^3}  \\right\\rangle\n",
    "$$\n",
    "\n",
    "(ii) What curve is this? _(It has been mentioned in previous computer labs)_\n",
    "\n",
    "## Answer 3:"
   ]
  },
  {
   "cell_type": "code",
   "execution_count": null,
   "metadata": {},
   "outputs": [],
   "source": []
  }
 ],
 "metadata": {
  "kernelspec": {
   "display_name": "Python 3",
   "language": "python",
   "name": "python3"
  },
  "language_info": {
   "codemirror_mode": {
    "name": "ipython",
    "version": 3
   },
   "file_extension": ".py",
   "mimetype": "text/x-python",
   "name": "python",
   "nbconvert_exporter": "python",
   "pygments_lexer": "ipython3",
   "version": "3.7.3"
  }
 },
 "nbformat": 4,
 "nbformat_minor": 2
}
